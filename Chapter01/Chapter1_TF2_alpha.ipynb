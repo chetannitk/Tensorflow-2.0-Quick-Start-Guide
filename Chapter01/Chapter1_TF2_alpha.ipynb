{
  "nbformat": 4,
  "nbformat_minor": 0,
  "metadata": {
    "kernelspec": {
      "display_name": "Python 3",
      "language": "python",
      "name": "python3"
    },
    "language_info": {
      "codemirror_mode": {
        "name": "ipython",
        "version": 3
      },
      "file_extension": ".py",
      "mimetype": "text/x-python",
      "name": "python",
      "nbconvert_exporter": "python",
      "pygments_lexer": "ipython3",
      "version": "3.6.7"
    },
    "colab": {
      "name": "Chapter1_TF2_alpha.ipynb",
      "provenance": [],
      "include_colab_link": true
    },
    "accelerator": "GPU"
  },
  "cells": [
    {
      "cell_type": "markdown",
      "metadata": {
        "id": "view-in-github",
        "colab_type": "text"
      },
      "source": [
        "<a href=\"https://colab.research.google.com/github/chetannitk/Tensorflow-2.0-Quick-Start-Guide/blob/master/Chapter01/Chapter1_TF2_alpha.ipynb\" target=\"_parent\"><img src=\"https://colab.research.google.com/assets/colab-badge.svg\" alt=\"Open In Colab\"/></a>"
      ]
    },
    {
      "cell_type": "markdown",
      "metadata": {
        "id": "2-QbUg1Qvd6d",
        "colab_type": "text"
      },
      "source": [
        "## Chapter 1: TensorFlow 2: eager variables and useful functions"
      ]
    },
    {
      "cell_type": "markdown",
      "metadata": {
        "id": "KEmy9sPnvd6f",
        "colab_type": "text"
      },
      "source": [
        "### Importing and checking TensorFlow"
      ]
    },
    {
      "cell_type": "code",
      "metadata": {
        "scrolled": true,
        "id": "BPEhLQlcvd6i",
        "colab_type": "code",
        "colab": {
          "base_uri": "https://localhost:8080/",
          "height": 68
        },
        "outputId": "38de2284-92a7-4cf3-c7c6-bf412f4d735b"
      },
      "source": [
        "import tensorflow as tf\n",
        "print(\"TensorFlow version: {}\".format(tf.__version__))\n",
        "print(\"Eager execution is: {}\".format(tf.executing_eagerly()))\n",
        "print(\"Keras version: {}\".format(tf.keras.__version__))\n"
      ],
      "execution_count": 1,
      "outputs": [
        {
          "output_type": "stream",
          "text": [
            "TensorFlow version: 2.2.0-rc3\n",
            "Eager execution is: True\n",
            "Keras version: 2.3.0-tf\n"
          ],
          "name": "stdout"
        }
      ]
    },
    {
      "cell_type": "code",
      "metadata": {
        "id": "BZvHS8dUvd6t",
        "colab_type": "code",
        "colab": {
          "base_uri": "https://localhost:8080/",
          "height": 34
        },
        "outputId": "6c1ddbb2-1140-45b3-8d3a-3fa81b3d54e0"
      },
      "source": [
        "tf.config.list_physical_devices('GPU')"
      ],
      "execution_count": 2,
      "outputs": [
        {
          "output_type": "execute_result",
          "data": {
            "text/plain": [
              "[PhysicalDevice(name='/physical_device:GPU:0', device_type='GPU')]"
            ]
          },
          "metadata": {
            "tags": []
          },
          "execution_count": 2
        }
      ]
    },
    {
      "cell_type": "markdown",
      "metadata": {
        "id": "fyULM3PKvd62",
        "colab_type": "text"
      },
      "source": [
        "#### Detect GPU:"
      ]
    },
    {
      "cell_type": "code",
      "metadata": {
        "id": "IqBqxGpXvd64",
        "colab_type": "code",
        "colab": {
          "base_uri": "https://localhost:8080/",
          "height": 68
        },
        "outputId": "d8de8f44-9f2e-4e98-acb6-ee4461c37694"
      },
      "source": [
        "var = tf.Variable([3, 3])\n",
        "\n",
        "if tf.config.list_physical_devices('GPU'):\n",
        "    print('Running on GPU')\n",
        "    print('GPU #0?')\n",
        "    print(var.device.endswith('GPU:0'))\n",
        "else:\n",
        "    print('Running on CPU')\n"
      ],
      "execution_count": 3,
      "outputs": [
        {
          "output_type": "stream",
          "text": [
            "Running on GPU\n",
            "GPU #0?\n",
            "False\n"
          ],
          "name": "stdout"
        }
      ]
    },
    {
      "cell_type": "markdown",
      "metadata": {
        "id": "UgoDda2Uvd7A",
        "colab_type": "text"
      },
      "source": [
        "### TensorFlow variables\n",
        "#### Tensor Flow supports all the data types you would expect:  tf.int32 ,  tf.float64 and  tf.complex64 for example.\n",
        "#### For a full list, please see: https://www.tensorflow.org/api_docs/python/tf/dtypes/DType\n",
        "#### The default int type is tf.int32 and the default float type is tf.float32"
      ]
    },
    {
      "cell_type": "markdown",
      "metadata": {
        "id": "-4mKqPBHvd7C",
        "colab_type": "text"
      },
      "source": [
        "#### Eager execution is the default"
      ]
    },
    {
      "cell_type": "code",
      "metadata": {
        "id": "mMNTyiiVvd7E",
        "colab_type": "code",
        "colab": {}
      },
      "source": [
        "t0 = 24 # python variable\n",
        "t1 = tf.Variable(42) # tensor variable\n",
        "t2 = tf.Variable([ [ [0., 1., 2.], [3., 4., 5.] ], [ [6., 7., 8.], [9., 10., 11.] ] ]) # tensor variable"
      ],
      "execution_count": 0,
      "outputs": []
    },
    {
      "cell_type": "code",
      "metadata": {
        "id": "y6q4MFagvd7M",
        "colab_type": "code",
        "colab": {
          "base_uri": "https://localhost:8080/",
          "height": 153
        },
        "outputId": "cd976eb1-601b-45eb-b035-04d3e1c4df01"
      },
      "source": [
        "t0, t1, t2"
      ],
      "execution_count": 6,
      "outputs": [
        {
          "output_type": "execute_result",
          "data": {
            "text/plain": [
              "(24,\n",
              " <tf.Variable 'Variable:0' shape=() dtype=int32, numpy=42>,\n",
              " <tf.Variable 'Variable:0' shape=(2, 2, 3) dtype=float32, numpy=\n",
              " array([[[ 0.,  1.,  2.],\n",
              "         [ 3.,  4.,  5.]],\n",
              " \n",
              "        [[ 6.,  7.,  8.],\n",
              "         [ 9., 10., 11.]]], dtype=float32)>)"
            ]
          },
          "metadata": {
            "tags": []
          },
          "execution_count": 6
        }
      ]
    },
    {
      "cell_type": "code",
      "metadata": {
        "id": "9XdUoW95vd7U",
        "colab_type": "code",
        "colab": {
          "base_uri": "https://localhost:8080/",
          "height": 34
        },
        "outputId": "3f556ac5-dc88-428b-8a18-66b429e123d3"
      },
      "source": [
        "f1 = tf.Variable(89.)\n",
        "f1"
      ],
      "execution_count": 7,
      "outputs": [
        {
          "output_type": "execute_result",
          "data": {
            "text/plain": [
              "<tf.Variable 'Variable:0' shape=() dtype=float32, numpy=89.0>"
            ]
          },
          "metadata": {
            "tags": []
          },
          "execution_count": 7
        }
      ]
    },
    {
      "cell_type": "code",
      "metadata": {
        "id": "B6esUQHivd7d",
        "colab_type": "code",
        "colab": {
          "base_uri": "https://localhost:8080/",
          "height": 34
        },
        "outputId": "0f8c5054-d864-4252-924a-ebe18a687503"
      },
      "source": [
        "f1.assign(98.)\n",
        "f1"
      ],
      "execution_count": 8,
      "outputs": [
        {
          "output_type": "execute_result",
          "data": {
            "text/plain": [
              "<tf.Variable 'Variable:0' shape=() dtype=float32, numpy=98.0>"
            ]
          },
          "metadata": {
            "tags": []
          },
          "execution_count": 8
        }
      ]
    },
    {
      "cell_type": "code",
      "metadata": {
        "id": "p805tqepvd7m",
        "colab_type": "code",
        "colab": {
          "base_uri": "https://localhost:8080/",
          "height": 34
        },
        "outputId": "8b8ecabe-551c-4644-ea45-f25692620c6a"
      },
      "source": [
        "f64 = tf.Variable(89, dtype = tf.float64)\n",
        "f64.dtype"
      ],
      "execution_count": 9,
      "outputs": [
        {
          "output_type": "execute_result",
          "data": {
            "text/plain": [
              "tf.float64"
            ]
          },
          "metadata": {
            "tags": []
          },
          "execution_count": 9
        }
      ]
    },
    {
      "cell_type": "markdown",
      "metadata": {
        "id": "wFO9aK9Yvd7t",
        "colab_type": "text"
      },
      "source": [
        "#### TensorFlow constants"
      ]
    },
    {
      "cell_type": "code",
      "metadata": {
        "id": "sORY4u0_vd7v",
        "colab_type": "code",
        "colab": {
          "base_uri": "https://localhost:8080/",
          "height": 34
        },
        "outputId": "04bc594b-39be-43c0-d9bf-e9ec11a3f5f5"
      },
      "source": [
        "m_o_l = tf.constant(42)\n",
        "m_o_l"
      ],
      "execution_count": 10,
      "outputs": [
        {
          "output_type": "execute_result",
          "data": {
            "text/plain": [
              "<tf.Tensor: shape=(), dtype=int32, numpy=42>"
            ]
          },
          "metadata": {
            "tags": []
          },
          "execution_count": 10
        }
      ]
    },
    {
      "cell_type": "code",
      "metadata": {
        "id": "q6FdgKCLvd73",
        "colab_type": "code",
        "colab": {
          "base_uri": "https://localhost:8080/",
          "height": 34
        },
        "outputId": "fc7c4dc3-b95c-4d87-d5c8-6225b1f17afe"
      },
      "source": [
        "m_o_l.numpy()"
      ],
      "execution_count": 11,
      "outputs": [
        {
          "output_type": "execute_result",
          "data": {
            "text/plain": [
              "42"
            ]
          },
          "metadata": {
            "tags": []
          },
          "execution_count": 11
        }
      ]
    },
    {
      "cell_type": "code",
      "metadata": {
        "id": "6NVW-TC9vd8B",
        "colab_type": "code",
        "colab": {
          "base_uri": "https://localhost:8080/",
          "height": 34
        },
        "outputId": "1419f948-0489-416d-adea-68c55b62a805"
      },
      "source": [
        "unit = tf.constant(1, dtype = tf.int64)\n",
        "unit"
      ],
      "execution_count": 12,
      "outputs": [
        {
          "output_type": "execute_result",
          "data": {
            "text/plain": [
              "<tf.Tensor: shape=(), dtype=int64, numpy=1>"
            ]
          },
          "metadata": {
            "tags": []
          },
          "execution_count": 12
        }
      ]
    },
    {
      "cell_type": "code",
      "metadata": {
        "id": "iURtXKqvvd8I",
        "colab_type": "code",
        "colab": {}
      },
      "source": [
        ""
      ],
      "execution_count": 0,
      "outputs": []
    },
    {
      "cell_type": "markdown",
      "metadata": {
        "id": "NTwpMRv_vd8P",
        "colab_type": "text"
      },
      "source": [
        "#### The rank (dimensions) of a tensor"
      ]
    },
    {
      "cell_type": "code",
      "metadata": {
        "id": "gG2ymMKIvd8Q",
        "colab_type": "code",
        "colab": {},
        "outputId": "d996d8e4-8731-4a96-e954-8daaf79639ad"
      },
      "source": [
        "tf.rank(t2)"
      ],
      "execution_count": 0,
      "outputs": [
        {
          "output_type": "execute_result",
          "data": {
            "text/plain": [
              "<tf.Tensor: id=51, shape=(), dtype=int32, numpy=3>"
            ]
          },
          "metadata": {
            "tags": []
          },
          "execution_count": 11
        }
      ]
    },
    {
      "cell_type": "code",
      "metadata": {
        "id": "p_k7XOoGvd8X",
        "colab_type": "code",
        "colab": {
          "base_uri": "https://localhost:8080/",
          "height": 34
        },
        "outputId": "5ba540ed-65e7-40de-d17f-dcd82ed015f1"
      },
      "source": [
        "tf.rank(t2).numpy()"
      ],
      "execution_count": 13,
      "outputs": [
        {
          "output_type": "execute_result",
          "data": {
            "text/plain": [
              "3"
            ]
          },
          "metadata": {
            "tags": []
          },
          "execution_count": 13
        }
      ]
    },
    {
      "cell_type": "markdown",
      "metadata": {
        "id": "eXw5qWsQvd8e",
        "colab_type": "text"
      },
      "source": [
        "#### Notice the shape of a tensor, i.e. the number of elements in each dimension"
      ]
    },
    {
      "cell_type": "code",
      "metadata": {
        "id": "EgKbz9JEvd8g",
        "colab_type": "code",
        "colab": {
          "base_uri": "https://localhost:8080/",
          "height": 34
        },
        "outputId": "a5c883a4-8069-4e1c-f8c6-8f8e1411def4"
      },
      "source": [
        "t2 = tf.Variable([ [ [0., 1., 2.], [3., 4., 5.] ], [ [6., 7., 8.], [9., 10., 11.] ] ]) # tensor variable\n",
        "print(t2.shape)"
      ],
      "execution_count": 14,
      "outputs": [
        {
          "output_type": "stream",
          "text": [
            "(2, 2, 3)\n"
          ],
          "name": "stdout"
        }
      ]
    },
    {
      "cell_type": "markdown",
      "metadata": {
        "id": "hLSWUWRdvd8n",
        "colab_type": "text"
      },
      "source": [
        "#### Tensors maybe reshaped, preserving the total size,  and retain the same values,  as is often required for constructing neural networks."
      ]
    },
    {
      "cell_type": "code",
      "metadata": {
        "id": "EpX16bfPvd8p",
        "colab_type": "code",
        "colab": {}
      },
      "source": [
        "r1 = tf.reshape(t2,[2,6]) # 2 rows 6 cols\n",
        "r2 = tf.reshape(t2,[1,12]) # 1 rows 12 cols"
      ],
      "execution_count": 0,
      "outputs": []
    },
    {
      "cell_type": "code",
      "metadata": {
        "id": "XZ_W9cL0vd8w",
        "colab_type": "code",
        "colab": {
          "base_uri": "https://localhost:8080/",
          "height": 68
        },
        "outputId": "23e2ebf5-e0d6-47e4-d247-a8dd3718e326"
      },
      "source": [
        "r1"
      ],
      "execution_count": 16,
      "outputs": [
        {
          "output_type": "execute_result",
          "data": {
            "text/plain": [
              "<tf.Tensor: shape=(2, 6), dtype=float32, numpy=\n",
              "array([[ 0.,  1.,  2.,  3.,  4.,  5.],\n",
              "       [ 6.,  7.,  8.,  9., 10., 11.]], dtype=float32)>"
            ]
          },
          "metadata": {
            "tags": []
          },
          "execution_count": 16
        }
      ]
    },
    {
      "cell_type": "code",
      "metadata": {
        "id": "u0d1Jdqtvd83",
        "colab_type": "code",
        "colab": {
          "base_uri": "https://localhost:8080/",
          "height": 68
        },
        "outputId": "33c0b593-dd38-4397-d1b5-c0112be4d78e"
      },
      "source": [
        "r2"
      ],
      "execution_count": 17,
      "outputs": [
        {
          "output_type": "execute_result",
          "data": {
            "text/plain": [
              "<tf.Tensor: shape=(1, 12), dtype=float32, numpy=\n",
              "array([[ 0.,  1.,  2.,  3.,  4.,  5.,  6.,  7.,  8.,  9., 10., 11.]],\n",
              "      dtype=float32)>"
            ]
          },
          "metadata": {
            "tags": []
          },
          "execution_count": 17
        }
      ]
    },
    {
      "cell_type": "markdown",
      "metadata": {
        "id": "fsToS09Cvd89",
        "colab_type": "text"
      },
      "source": [
        "#### Specifying an element of a tensor"
      ]
    },
    {
      "cell_type": "code",
      "metadata": {
        "id": "9KwVCBvivd8-",
        "colab_type": "code",
        "colab": {
          "base_uri": "https://localhost:8080/",
          "height": 34
        },
        "outputId": "dd1a4e89-a7d5-4558-fbd2-267624605681"
      },
      "source": [
        "t3 = t2[1, 0, 2] # slice 1, row 0, column 2\n",
        "t3"
      ],
      "execution_count": 18,
      "outputs": [
        {
          "output_type": "execute_result",
          "data": {
            "text/plain": [
              "<tf.Tensor: shape=(), dtype=float32, numpy=8.0>"
            ]
          },
          "metadata": {
            "tags": []
          },
          "execution_count": 18
        }
      ]
    },
    {
      "cell_type": "markdown",
      "metadata": {
        "id": "Uxurj-5Evd9E",
        "colab_type": "text"
      },
      "source": [
        "#### Find the size (total number of elements)  of a tensor"
      ]
    },
    {
      "cell_type": "code",
      "metadata": {
        "id": "ltvgpND7vd9G",
        "colab_type": "code",
        "colab": {
          "base_uri": "https://localhost:8080/",
          "height": 34
        },
        "outputId": "c12e9469-aa9c-4c66-de6d-af7a9583fdac"
      },
      "source": [
        "s = tf.size(input=t2).numpy()\n",
        "s"
      ],
      "execution_count": 19,
      "outputs": [
        {
          "output_type": "execute_result",
          "data": {
            "text/plain": [
              "12"
            ]
          },
          "metadata": {
            "tags": []
          },
          "execution_count": 19
        }
      ]
    },
    {
      "cell_type": "markdown",
      "metadata": {
        "id": "jUKzHYgKvd9N",
        "colab_type": "text"
      },
      "source": [
        "#### Casting tensor to numpy variable"
      ]
    },
    {
      "cell_type": "code",
      "metadata": {
        "id": "Rdw6C8prvd9O",
        "colab_type": "code",
        "colab": {
          "base_uri": "https://localhost:8080/",
          "height": 119
        },
        "outputId": "9fb00ce0-d3e3-4ca6-d07d-8b60ac0a25b8"
      },
      "source": [
        "print(t2.numpy())\n",
        "\n",
        "print(t2[1, 0, 2].numpy())"
      ],
      "execution_count": 20,
      "outputs": [
        {
          "output_type": "stream",
          "text": [
            "[[[ 0.  1.  2.]\n",
            "  [ 3.  4.  5.]]\n",
            "\n",
            " [[ 6.  7.  8.]\n",
            "  [ 9. 10. 11.]]]\n",
            "8.0\n"
          ],
          "name": "stdout"
        }
      ]
    },
    {
      "cell_type": "markdown",
      "metadata": {
        "id": "LL4yjM1yvd9U",
        "colab_type": "text"
      },
      "source": [
        "#### Find data type of a tensor"
      ]
    },
    {
      "cell_type": "code",
      "metadata": {
        "id": "8oFt33RMvd9W",
        "colab_type": "code",
        "colab": {
          "base_uri": "https://localhost:8080/",
          "height": 34
        },
        "outputId": "9884ef14-7150-49a1-eb6a-680b4e6d3d81"
      },
      "source": [
        "t3.dtype"
      ],
      "execution_count": 21,
      "outputs": [
        {
          "output_type": "execute_result",
          "data": {
            "text/plain": [
              "tf.float32"
            ]
          },
          "metadata": {
            "tags": []
          },
          "execution_count": 21
        }
      ]
    },
    {
      "cell_type": "markdown",
      "metadata": {
        "id": "ZbM94dMHvd9d",
        "colab_type": "text"
      },
      "source": [
        "#### element wise multiplication with overloaded operator"
      ]
    },
    {
      "cell_type": "code",
      "metadata": {
        "id": "8hGlNSKsvd9e",
        "colab_type": "code",
        "colab": {
          "base_uri": "https://localhost:8080/",
          "height": 119
        },
        "outputId": "16e43911-1b83-4dcb-ff5b-ae3d6444a40a"
      },
      "source": [
        "t2*t2"
      ],
      "execution_count": 22,
      "outputs": [
        {
          "output_type": "execute_result",
          "data": {
            "text/plain": [
              "<tf.Tensor: shape=(2, 2, 3), dtype=float32, numpy=\n",
              "array([[[  0.,   1.,   4.],\n",
              "        [  9.,  16.,  25.]],\n",
              "\n",
              "       [[ 36.,  49.,  64.],\n",
              "        [ 81., 100., 121.]]], dtype=float32)>"
            ]
          },
          "metadata": {
            "tags": []
          },
          "execution_count": 22
        }
      ]
    },
    {
      "cell_type": "markdown",
      "metadata": {
        "id": "tNYRQ00fvd9l",
        "colab_type": "text"
      },
      "source": [
        "#### Tensorflow variables support broadcasting:"
      ]
    },
    {
      "cell_type": "code",
      "metadata": {
        "id": "OPZ4iicdvd9m",
        "colab_type": "code",
        "colab": {
          "base_uri": "https://localhost:8080/",
          "height": 119
        },
        "outputId": "cb570764-d2ef-425c-bd93-bb2fceb12262"
      },
      "source": [
        "t4 = t2*4\n",
        "print(t4)"
      ],
      "execution_count": 23,
      "outputs": [
        {
          "output_type": "stream",
          "text": [
            "tf.Tensor(\n",
            "[[[ 0.  4.  8.]\n",
            "  [12. 16. 20.]]\n",
            "\n",
            " [[24. 28. 32.]\n",
            "  [36. 40. 44.]]], shape=(2, 2, 3), dtype=float32)\n"
          ],
          "name": "stdout"
        }
      ]
    },
    {
      "cell_type": "markdown",
      "metadata": {
        "id": "Si9kqoXVvd9s",
        "colab_type": "text"
      },
      "source": [
        "#### TensorFlow constants, transpose of a matrix and matrix multiplication, eagerly."
      ]
    },
    {
      "cell_type": "code",
      "metadata": {
        "id": "E2qfHww5vd9t",
        "colab_type": "code",
        "colab": {
          "base_uri": "https://localhost:8080/",
          "height": 34
        },
        "outputId": "4fe87419-a1d5-41b2-94fd-642dcac7aa11"
      },
      "source": [
        "u = tf.constant([[3,4,3]])\n",
        "v = tf.constant([[1,2,1]])\n",
        "tf.matmul(u, tf.transpose(a=v))"
      ],
      "execution_count": 25,
      "outputs": [
        {
          "output_type": "execute_result",
          "data": {
            "text/plain": [
              "<tf.Tensor: shape=(1, 1), dtype=int32, numpy=array([[14]], dtype=int32)>"
            ]
          },
          "metadata": {
            "tags": []
          },
          "execution_count": 25
        }
      ]
    },
    {
      "cell_type": "code",
      "metadata": {
        "id": "kcKsJWWKvd9z",
        "colab_type": "code",
        "colab": {}
      },
      "source": [
        ""
      ],
      "execution_count": 0,
      "outputs": []
    },
    {
      "cell_type": "markdown",
      "metadata": {
        "id": "i9MFsiUivd95",
        "colab_type": "text"
      },
      "source": [
        "#### Casting a tensor to another datatype ..."
      ]
    },
    {
      "cell_type": "code",
      "metadata": {
        "id": "CxANJP-yvd96",
        "colab_type": "code",
        "colab": {
          "base_uri": "https://localhost:8080/",
          "height": 34
        },
        "outputId": "bbffd908-404b-4699-dec9-9002c4fc2526"
      },
      "source": [
        "t1"
      ],
      "execution_count": 26,
      "outputs": [
        {
          "output_type": "execute_result",
          "data": {
            "text/plain": [
              "<tf.Variable 'Variable:0' shape=() dtype=int32, numpy=42>"
            ]
          },
          "metadata": {
            "tags": []
          },
          "execution_count": 26
        }
      ]
    },
    {
      "cell_type": "code",
      "metadata": {
        "id": "tloKFIbAvd-B",
        "colab_type": "code",
        "colab": {
          "base_uri": "https://localhost:8080/",
          "height": 34
        },
        "outputId": "8ec03374-5170-4df9-e680-90b343210bdb"
      },
      "source": [
        "i = tf.cast(t1, dtype=tf.float32)\n",
        "i"
      ],
      "execution_count": 27,
      "outputs": [
        {
          "output_type": "execute_result",
          "data": {
            "text/plain": [
              "<tf.Tensor: shape=(), dtype=float32, numpy=42.0>"
            ]
          },
          "metadata": {
            "tags": []
          },
          "execution_count": 27
        }
      ]
    },
    {
      "cell_type": "markdown",
      "metadata": {
        "id": "OKXoDuiwvd-I",
        "colab_type": "text"
      },
      "source": [
        "#### ... with truncation"
      ]
    },
    {
      "cell_type": "code",
      "metadata": {
        "id": "Gf8RLicCvd-J",
        "colab_type": "code",
        "colab": {
          "base_uri": "https://localhost:8080/",
          "height": 34
        },
        "outputId": "5c2ed56d-2aae-4c85-b926-52234fc1e991"
      },
      "source": [
        "j = tf.cast(tf.constant(4.9), dtype=tf.int32)\n",
        "j"
      ],
      "execution_count": 28,
      "outputs": [
        {
          "output_type": "execute_result",
          "data": {
            "text/plain": [
              "<tf.Tensor: shape=(), dtype=int32, numpy=4>"
            ]
          },
          "metadata": {
            "tags": []
          },
          "execution_count": 28
        }
      ]
    },
    {
      "cell_type": "code",
      "metadata": {
        "id": "TqDM1LWuvd-R",
        "colab_type": "code",
        "colab": {}
      },
      "source": [
        ""
      ],
      "execution_count": 0,
      "outputs": []
    },
    {
      "cell_type": "code",
      "metadata": {
        "id": "ANmWnEDavd-f",
        "colab_type": "code",
        "colab": {
          "base_uri": "https://localhost:8080/",
          "height": 34
        },
        "outputId": "3372bbb3-1af3-44d7-f761-68c403119007"
      },
      "source": [
        "\n",
        "#adding tensors\n",
        "i = tf.Variable(66)\n",
        "j = tf.Variable(33)\n",
        "tf.add(i,j)"
      ],
      "execution_count": 29,
      "outputs": [
        {
          "output_type": "execute_result",
          "data": {
            "text/plain": [
              "<tf.Tensor: shape=(), dtype=int32, numpy=99>"
            ]
          },
          "metadata": {
            "tags": []
          },
          "execution_count": 29
        }
      ]
    },
    {
      "cell_type": "markdown",
      "metadata": {
        "id": "s8jmS5j4vd-m",
        "colab_type": "text"
      },
      "source": [
        "#### Ragged Tensors"
      ]
    },
    {
      "cell_type": "code",
      "metadata": {
        "id": "eNpVP4FSvd-n",
        "colab_type": "code",
        "colab": {
          "base_uri": "https://localhost:8080/",
          "height": 119
        },
        "outputId": "1183e891-f526-4d3a-c36e-76a5e3d2f334"
      },
      "source": [
        "ragged =tf.ragged.constant([[5, 2, 6, 1], [], [4, 10, 7], [8], [6,7]])\n",
        "\n",
        "print(ragged)\n",
        "print(ragged[0,:])\n",
        "print(ragged[1,:])\n",
        "print(ragged[2,:])\n",
        "print(ragged[3,:])\n",
        "print(ragged[4,:])"
      ],
      "execution_count": 30,
      "outputs": [
        {
          "output_type": "stream",
          "text": [
            "<tf.RaggedTensor [[5, 2, 6, 1], [], [4, 10, 7], [8], [6, 7]]>\n",
            "tf.Tensor([5 2 6 1], shape=(4,), dtype=int32)\n",
            "tf.Tensor([], shape=(0,), dtype=int32)\n",
            "tf.Tensor([ 4 10  7], shape=(3,), dtype=int32)\n",
            "tf.Tensor([8], shape=(1,), dtype=int32)\n",
            "tf.Tensor([6 7], shape=(2,), dtype=int32)\n"
          ],
          "name": "stdout"
        }
      ]
    },
    {
      "cell_type": "code",
      "metadata": {
        "id": "yi5CzG61vd-t",
        "colab_type": "code",
        "colab": {}
      },
      "source": [
        "\n"
      ],
      "execution_count": 0,
      "outputs": []
    },
    {
      "cell_type": "code",
      "metadata": {
        "id": "d0n_YJuVvd-0",
        "colab_type": "code",
        "colab": {},
        "outputId": "1c17767f-1abd-4664-c5da-706e16116c5a"
      },
      "source": [
        "print(tf.RaggedTensor.from_row_splits(values=[5, 2, 6, 1, 4, 10, 7, 8, 6, 7],row_splits=[0, 4, 4, 7, 8, 10]))"
      ],
      "execution_count": 0,
      "outputs": [
        {
          "output_type": "stream",
          "text": [
            "<tf.RaggedTensor [[5, 2, 6, 1], [], [4, 10, 7], [8], [6, 7]]>\n"
          ],
          "name": "stdout"
        }
      ]
    },
    {
      "cell_type": "markdown",
      "metadata": {
        "id": "TiNwXcUrvd-7",
        "colab_type": "raw"
      },
      "source": [
        ""
      ]
    },
    {
      "cell_type": "code",
      "metadata": {
        "id": "_6Jvifl9vd-8",
        "colab_type": "code",
        "colab": {}
      },
      "source": [
        ""
      ],
      "execution_count": 0,
      "outputs": []
    },
    {
      "cell_type": "code",
      "metadata": {
        "id": "1W2B9oKsvd_E",
        "colab_type": "code",
        "colab": {}
      },
      "source": [
        ""
      ],
      "execution_count": 0,
      "outputs": []
    },
    {
      "cell_type": "markdown",
      "metadata": {
        "id": "nATx5CrCvd_L",
        "colab_type": "text"
      },
      "source": [
        "###  Let's now take a look at some useful TensorFlow functions¶"
      ]
    },
    {
      "cell_type": "code",
      "metadata": {
        "id": "AqR_MO1hvd_N",
        "colab_type": "code",
        "colab": {
          "base_uri": "https://localhost:8080/",
          "height": 34
        },
        "outputId": "d468c7e0-cead-4462-fa7a-c78a19127f52"
      },
      "source": [
        "x = [1,3,5,7,11]\n",
        "y = 5\n",
        "s = tf.math.squared_difference( x,  y) #() x-y)*(x-y) with broadcasting\n",
        "s"
      ],
      "execution_count": 31,
      "outputs": [
        {
          "output_type": "execute_result",
          "data": {
            "text/plain": [
              "<tf.Tensor: shape=(5,), dtype=int32, numpy=array([16,  4,  0,  4, 36], dtype=int32)>"
            ]
          },
          "metadata": {
            "tags": []
          },
          "execution_count": 31
        }
      ]
    },
    {
      "cell_type": "code",
      "metadata": {
        "id": "Bzc06ZrNvd_T",
        "colab_type": "code",
        "colab": {}
      },
      "source": [
        ""
      ],
      "execution_count": 0,
      "outputs": []
    },
    {
      "cell_type": "markdown",
      "metadata": {
        "id": "LWQGFjuhvd_Z",
        "colab_type": "text"
      },
      "source": [
        "### tf.reduce_mean(input_tensor,  axis=None, keepdims=None,  name=None)\n",
        "#### Note that this is equivalent to np.mean, except that it infers the return data type from the input tensor whereas np.mean allows you to specify the output type, (defaulting to float64)"
      ]
    },
    {
      "cell_type": "code",
      "metadata": {
        "id": "HuKwojVjvd_a",
        "colab_type": "code",
        "colab": {}
      },
      "source": [
        "numbers = tf.constant([[4., 5.], [7., 3.]])\n"
      ],
      "execution_count": 0,
      "outputs": []
    },
    {
      "cell_type": "markdown",
      "metadata": {
        "id": "tSWxoIuWvd_h",
        "colab_type": "text"
      },
      "source": [
        "#### Find mean across all axes"
      ]
    },
    {
      "cell_type": "code",
      "metadata": {
        "id": "1GWryWREvd_j",
        "colab_type": "code",
        "colab": {
          "base_uri": "https://localhost:8080/",
          "height": 34
        },
        "outputId": "7082b84d-8daa-49df-9a0b-06a6495a0f60"
      },
      "source": [
        "tf.reduce_mean(input_tensor=numbers) #( 4. + 5. + 7. + 3.)/4 = 4.75"
      ],
      "execution_count": 33,
      "outputs": [
        {
          "output_type": "execute_result",
          "data": {
            "text/plain": [
              "<tf.Tensor: shape=(), dtype=float32, numpy=4.75>"
            ]
          },
          "metadata": {
            "tags": []
          },
          "execution_count": 33
        }
      ]
    },
    {
      "cell_type": "markdown",
      "metadata": {
        "id": "SEHZyzEvvd_q",
        "colab_type": "text"
      },
      "source": [
        "#### Find mean across columns (i.e. reduce rows)"
      ]
    },
    {
      "cell_type": "code",
      "metadata": {
        "id": "_GBVgtE2vd_r",
        "colab_type": "code",
        "colab": {
          "base_uri": "https://localhost:8080/",
          "height": 34
        },
        "outputId": "7941c2d0-4cea-44c9-cd02-b55639a86bda"
      },
      "source": [
        "tf.reduce_mean(input_tensor=numbers, axis=0) # [ (4. + 7. )/2 , (5. + 3.)/2 ]."
      ],
      "execution_count": 34,
      "outputs": [
        {
          "output_type": "execute_result",
          "data": {
            "text/plain": [
              "<tf.Tensor: shape=(2,), dtype=float32, numpy=array([5.5, 4. ], dtype=float32)>"
            ]
          },
          "metadata": {
            "tags": []
          },
          "execution_count": 34
        }
      ]
    },
    {
      "cell_type": "code",
      "metadata": {
        "id": "0efmJDRFvd_x",
        "colab_type": "code",
        "colab": {
          "base_uri": "https://localhost:8080/",
          "height": 34
        },
        "outputId": "e14abe45-246d-47ee-8714-74cd897fb9d3"
      },
      "source": [
        "tf.reduce_mean(input_tensor=numbers, axis=0, keepdims=True)"
      ],
      "execution_count": 35,
      "outputs": [
        {
          "output_type": "execute_result",
          "data": {
            "text/plain": [
              "<tf.Tensor: shape=(1, 2), dtype=float32, numpy=array([[5.5, 4. ]], dtype=float32)>"
            ]
          },
          "metadata": {
            "tags": []
          },
          "execution_count": 35
        }
      ]
    },
    {
      "cell_type": "markdown",
      "metadata": {
        "id": "M0jMSzVGvd_4",
        "colab_type": "text"
      },
      "source": [
        "#### Find mean across rows (i.e. reduce columns)"
      ]
    },
    {
      "cell_type": "code",
      "metadata": {
        "id": "NPV9sZEMvd_5",
        "colab_type": "code",
        "colab": {
          "base_uri": "https://localhost:8080/",
          "height": 34
        },
        "outputId": "d13e0bb2-ee84-45ca-ee84-49ef326c125d"
      },
      "source": [
        "tf.reduce_mean(input_tensor=numbers, axis=1) # [ (4. + 5. )/2 , (7. + 3. )/2]\n"
      ],
      "execution_count": 36,
      "outputs": [
        {
          "output_type": "execute_result",
          "data": {
            "text/plain": [
              "<tf.Tensor: shape=(2,), dtype=float32, numpy=array([4.5, 5. ], dtype=float32)>"
            ]
          },
          "metadata": {
            "tags": []
          },
          "execution_count": 36
        }
      ]
    },
    {
      "cell_type": "code",
      "metadata": {
        "id": "H0j71WkKvd_-",
        "colab_type": "code",
        "colab": {
          "base_uri": "https://localhost:8080/",
          "height": 68
        },
        "outputId": "2c02907b-6697-4997-a12c-4ba9abd7c79f"
      },
      "source": [
        "tf.reduce_mean(input_tensor=numbers, axis=1, keepdims=True)"
      ],
      "execution_count": 37,
      "outputs": [
        {
          "output_type": "execute_result",
          "data": {
            "text/plain": [
              "<tf.Tensor: shape=(2, 1), dtype=float32, numpy=\n",
              "array([[4.5],\n",
              "       [5. ]], dtype=float32)>"
            ]
          },
          "metadata": {
            "tags": []
          },
          "execution_count": 37
        }
      ]
    },
    {
      "cell_type": "code",
      "metadata": {
        "id": "DuFmXjhXveAE",
        "colab_type": "code",
        "colab": {}
      },
      "source": [
        ""
      ],
      "execution_count": 0,
      "outputs": []
    },
    {
      "cell_type": "markdown",
      "metadata": {
        "id": "8-wFJVFpveAL",
        "colab_type": "text"
      },
      "source": [
        "#### Output a tensor of the given shape filled with  values from a normal distribution."
      ]
    },
    {
      "cell_type": "code",
      "metadata": {
        "id": "3DkG0PPcveAM",
        "colab_type": "code",
        "colab": {
          "base_uri": "https://localhost:8080/",
          "height": 85
        },
        "outputId": "1fa345bb-439e-4c8d-9ff5-842036dc5280"
      },
      "source": [
        "tf.random.normal(shape = (3,2), mean=10, stddev=2, dtype=tf.float32, seed=None,  name=None)"
      ],
      "execution_count": 38,
      "outputs": [
        {
          "output_type": "execute_result",
          "data": {
            "text/plain": [
              "<tf.Tensor: shape=(3, 2), dtype=float32, numpy=\n",
              "array([[13.162109 , 10.09173  ],\n",
              "       [ 7.3771896, 10.730454 ],\n",
              "       [ 9.252833 ,  8.826976 ]], dtype=float32)>"
            ]
          },
          "metadata": {
            "tags": []
          },
          "execution_count": 38
        }
      ]
    },
    {
      "cell_type": "markdown",
      "metadata": {
        "id": "3eyGHAD1veAU",
        "colab_type": "text"
      },
      "source": [
        "#### Example"
      ]
    },
    {
      "cell_type": "code",
      "metadata": {
        "id": "nhyfadcDveAV",
        "colab_type": "code",
        "colab": {
          "base_uri": "https://localhost:8080/",
          "height": 85
        },
        "outputId": "27767457-c42e-493b-a6fd-cce0dd9334b2"
      },
      "source": [
        "ran = tf.random.normal(shape = (3,2), mean=10.0, stddev=2.0)\n",
        "print(ran)"
      ],
      "execution_count": 39,
      "outputs": [
        {
          "output_type": "stream",
          "text": [
            "tf.Tensor(\n",
            "[[12.807998  8.355198]\n",
            " [ 9.96904  11.654692]\n",
            " [ 9.369309  8.005923]], shape=(3, 2), dtype=float32)\n"
          ],
          "name": "stdout"
        }
      ]
    },
    {
      "cell_type": "code",
      "metadata": {
        "id": "iHLIdrItveAg",
        "colab_type": "code",
        "colab": {
          "base_uri": "https://localhost:8080/",
          "height": 68
        },
        "outputId": "75f72599-320e-4f89-b655-20e7e7894c21"
      },
      "source": [
        "tf.random.uniform(shape = (2,4),  minval=0, maxval=None, dtype=tf.float32, seed=None,  name=None)"
      ],
      "execution_count": 40,
      "outputs": [
        {
          "output_type": "execute_result",
          "data": {
            "text/plain": [
              "<tf.Tensor: shape=(2, 4), dtype=float32, numpy=\n",
              "array([[0.10689008, 0.37454653, 0.7669655 , 0.87886477],\n",
              "       [0.7041316 , 0.1731571 , 0.02586567, 0.7261988 ]], dtype=float32)>"
            ]
          },
          "metadata": {
            "tags": []
          },
          "execution_count": 40
        }
      ]
    },
    {
      "cell_type": "markdown",
      "metadata": {
        "id": "nLF1XOx_veAp",
        "colab_type": "text"
      },
      "source": [
        "#### Output a tensor of the given shape filled with values from a uniform distribution."
      ]
    },
    {
      "cell_type": "markdown",
      "metadata": {
        "id": "1ecoDTStveAq",
        "colab_type": "text"
      },
      "source": [
        "#### Example"
      ]
    },
    {
      "cell_type": "code",
      "metadata": {
        "id": "5pMYoRtEveAr",
        "colab_type": "code",
        "colab": {
          "base_uri": "https://localhost:8080/",
          "height": 68
        },
        "outputId": "b9f6e55f-010e-48a3-e8d6-4b42d0cd97f3"
      },
      "source": [
        "ran = tf.random.uniform(shape = (2,2), maxval=20, dtype=tf.int32)\n",
        "print(ran)"
      ],
      "execution_count": 41,
      "outputs": [
        {
          "output_type": "stream",
          "text": [
            "tf.Tensor(\n",
            "[[17 18]\n",
            " [ 3 17]], shape=(2, 2), dtype=int32)\n"
          ],
          "name": "stdout"
        }
      ]
    },
    {
      "cell_type": "markdown",
      "metadata": {
        "id": "5MxQNkwtveAy",
        "colab_type": "text"
      },
      "source": [
        "#### To output tensors with repeatable values over runs, set a seed in tf.set_random_seeds()"
      ]
    },
    {
      "cell_type": "code",
      "metadata": {
        "id": "tyGyu-1qveAz",
        "colab_type": "code",
        "colab": {
          "base_uri": "https://localhost:8080/",
          "height": 221
        },
        "outputId": "72302c81-a23e-40b1-a4f5-cd7ae4d64c9d"
      },
      "source": [
        "tf.random.set_seed(11)\n",
        "ran1 = tf.random.uniform(shape = (2,2), maxval=10, dtype = tf.int32)\n",
        "ran2 =  tf.random.uniform(shape = (2,2), maxval=10, dtype = tf.int32)\n",
        "print(ran1) #Call 1\n",
        "print(ran2)\n",
        "\n",
        "tf.random.set_seed(11) #same seed\n",
        "ran1 = tf.random.uniform(shape = (2,2), maxval=10, dtype = tf.int32)\n",
        "ran2 = tf.random.uniform(shape = (2,2), maxval=10, dtype = tf.int32)\n",
        "print(ran1)\n",
        "print(ran2)"
      ],
      "execution_count": 42,
      "outputs": [
        {
          "output_type": "stream",
          "text": [
            "tf.Tensor(\n",
            "[[4 6]\n",
            " [5 2]], shape=(2, 2), dtype=int32)\n",
            "tf.Tensor(\n",
            "[[9 7]\n",
            " [9 4]], shape=(2, 2), dtype=int32)\n",
            "tf.Tensor(\n",
            "[[4 6]\n",
            " [5 2]], shape=(2, 2), dtype=int32)\n",
            "tf.Tensor(\n",
            "[[9 7]\n",
            " [9 4]], shape=(2, 2), dtype=int32)\n"
          ],
          "name": "stdout"
        }
      ]
    },
    {
      "cell_type": "code",
      "metadata": {
        "id": "-6eQ-x1sveA4",
        "colab_type": "code",
        "colab": {}
      },
      "source": [
        ""
      ],
      "execution_count": 0,
      "outputs": []
    },
    {
      "cell_type": "markdown",
      "metadata": {
        "id": "ASBWbttAveA8",
        "colab_type": "text"
      },
      "source": [
        "#### Example\n",
        "#### Simulate 10 throws of two six-sided dice. Store the results\n",
        "#### in a 10x3 matrix.\n",
        "#### adapted for eager execution from: \n",
        "#### https://colab.research.google.com/notebooks/mlcc/creating_and_manipulating_tensors.ipynb#scrollTo=iFIOcnfz_Oqw\n",
        "#### We're going to place dice throws inside two separate\n",
        "#### 10x1 matrices. We could have placed dice throws inside\n",
        "#### a single 10x2 matrix, but adding different columns of\n",
        "#### the same matrix is tricky. We also could have placed\n",
        "#### dice throws inside two 1-D tensors (vectors); doing so\n",
        "#### would require transposing the result.\n",
        " "
      ]
    },
    {
      "cell_type": "code",
      "metadata": {
        "id": "nL5BrN9JveA9",
        "colab_type": "code",
        "colab": {},
        "outputId": "02af594e-08c9-4c37-b155-38e3aed22a67"
      },
      "source": [
        "dice1 = tf.Variable(tf.random.uniform([10, 1], minval=1, maxval=7, dtype=tf.int32))\n",
        "dice2 = tf.Variable(tf.random.uniform([10, 1], minval=1, maxval=7, dtype=tf.int32))\n",
        "\n",
        "  # We may add dice1 and dice2 since they share the same shape  and size.\n",
        "dice_sum = dice1 + dice2\n",
        "\n",
        "  # We've got three separate 10x1 matrices. To produce a single\n",
        "  # 10x3 matrix, we'll concatenate them along dimension 1.\n",
        "resulting_matrix = tf.concat(values=[dice1, dice2, dice_sum], axis=1) # join in a column\n",
        "\n",
        "print(resulting_matrix)"
      ],
      "execution_count": 0,
      "outputs": [
        {
          "output_type": "stream",
          "text": [
            "tf.Tensor(\n",
            "[[ 5  5 10]\n",
            " [ 4  3  7]\n",
            " [ 5  3  8]\n",
            " [ 3  3  6]\n",
            " [ 1  4  5]\n",
            " [ 4  1  5]\n",
            " [ 5  1  6]\n",
            " [ 6  4 10]\n",
            " [ 3  3  6]\n",
            " [ 2  3  5]], shape=(10, 3), dtype=int32)\n"
          ],
          "name": "stdout"
        }
      ]
    },
    {
      "cell_type": "code",
      "metadata": {
        "id": "mG8RKPfUveBC",
        "colab_type": "code",
        "colab": {}
      },
      "source": [
        ""
      ],
      "execution_count": 0,
      "outputs": []
    },
    {
      "cell_type": "markdown",
      "metadata": {
        "id": "3QP6T8scveBI",
        "colab_type": "text"
      },
      "source": [
        "#### To output the index of the element  with the largest value across the axes of a tensor."
      ]
    },
    {
      "cell_type": "code",
      "metadata": {
        "id": "5WUv-Sp6veBJ",
        "colab_type": "code",
        "colab": {},
        "outputId": "b05fa6bd-cc71-4bbd-e0f8-d311320c16ae"
      },
      "source": [
        "# 1-D tensor\n",
        "t5 = tf.constant([2, 11, 5, 42, 7, 19, -6, -11, 29])\n",
        "print(t5)\n",
        "i = tf.argmax(input=t5)\n",
        "print('index of max; ', i)\n",
        "print('Max element: ',t5[i].numpy())\n",
        "\n",
        "i = tf.argmin(input=t5,axis=0).numpy()\n",
        "print('index of min: ', i)\n",
        "print('Min element: ',t5[i].numpy())\n",
        "\n",
        "t6 = tf.reshape(t5, [3,3])\n",
        "\n",
        "print(t6)\n",
        "i = tf.argmax(input=t6,axis=0).numpy() # max arg down rows\n",
        "print('indices of max down rows; ', i)\n",
        "i = tf.argmin(input=t6,axis=0).numpy() # min arg down rows\n",
        "print('indices of min down rows ; ',i)\n",
        "\n",
        "print(t6)\n",
        "i = tf.argmax(input=t6,axis=1).numpy() # max arg across cols\n",
        "print('indices of max across cols: ',i)\n",
        "i = tf.argmin(input=t6,axis=1).numpy() # min arg across cols\n",
        "print('indices of min across cols: ',i)"
      ],
      "execution_count": 0,
      "outputs": [
        {
          "output_type": "stream",
          "text": [
            "tf.Tensor([  2  11   5  42   7  19  -6 -11  29], shape=(9,), dtype=int32)\n",
            "index of max;  tf.Tensor(3, shape=(), dtype=int64)\n",
            "Max element:  42\n",
            "index of min:  7\n",
            "Min element:  -11\n",
            "tf.Tensor(\n",
            "[[  2  11   5]\n",
            " [ 42   7  19]\n",
            " [ -6 -11  29]], shape=(3, 3), dtype=int32)\n",
            "indices of max down rows;  [1 0 2]\n",
            "indices of min down rows ;  [2 2 0]\n",
            "tf.Tensor(\n",
            "[[  2  11   5]\n",
            " [ 42   7  19]\n",
            " [ -6 -11  29]], shape=(3, 3), dtype=int32)\n",
            "indices of max across cols:  [1 0 2]\n",
            "indices of min across cols:  [0 1 1]\n"
          ],
          "name": "stdout"
        }
      ]
    },
    {
      "cell_type": "code",
      "metadata": {
        "id": "oVCyX-1-veBO",
        "colab_type": "code",
        "colab": {}
      },
      "source": [
        "#################BEGIN CODE INCOMPATIBLE WITH TF2 because tf.contrib has gone ##################\n",
        "################# need to locate integrate.odeint and fix #############################"
      ],
      "execution_count": 0,
      "outputs": []
    },
    {
      "cell_type": "markdown",
      "metadata": {
        "id": "ObDBIlkgveBU",
        "colab_type": "text"
      },
      "source": [
        "#### integration: tf.contrib.integrate.odeint(func, y0, t, rtol=1e-06, atol = 1e-12, method=None, options=None, full_output=False, name=None)"
      ]
    },
    {
      "cell_type": "markdown",
      "metadata": {
        "id": "29VXBr7MveBV",
        "colab_type": "text"
      },
      "source": [
        "#### examples: "
      ]
    },
    {
      "cell_type": "code",
      "metadata": {
        "id": "BBiLEmqgveBX",
        "colab_type": "code",
        "colab": {},
        "outputId": "6b222a01-6e5a-4886-9daa-59eba0fbebfb"
      },
      "source": [
        "# solve dy/dt = 1/y # this integrates to y^2 = 2*t + 1 with the given boundary condition of y0 =1\n",
        "func = lambda y,_: 1/y\n",
        "tf.contrib .integrate.odeint(func, 1., [0, 1, 2],full_output=True)"
      ],
      "execution_count": 0,
      "outputs": [
        {
          "output_type": "error",
          "ename": "AttributeError",
          "evalue": "module 'tensorflow' has no attribute 'contrib'",
          "traceback": [
            "\u001b[0;31m---------------------------------------------------------------------------\u001b[0m",
            "\u001b[0;31mAttributeError\u001b[0m                            Traceback (most recent call last)",
            "\u001b[0;32m<ipython-input-56-91968df6bf96>\u001b[0m in \u001b[0;36m<module>\u001b[0;34m\u001b[0m\n\u001b[1;32m      1\u001b[0m \u001b[0;31m# solve dy/dt = 1/y # this integrates to y^2 = 2*t + 1 with the given boundary condition of y0 =1\u001b[0m\u001b[0;34m\u001b[0m\u001b[0;34m\u001b[0m\u001b[0;34m\u001b[0m\u001b[0m\n\u001b[1;32m      2\u001b[0m \u001b[0mfunc\u001b[0m \u001b[0;34m=\u001b[0m \u001b[0;32mlambda\u001b[0m \u001b[0my\u001b[0m\u001b[0;34m,\u001b[0m\u001b[0m_\u001b[0m\u001b[0;34m:\u001b[0m \u001b[0;36m1\u001b[0m\u001b[0;34m/\u001b[0m\u001b[0my\u001b[0m\u001b[0;34m\u001b[0m\u001b[0;34m\u001b[0m\u001b[0m\n\u001b[0;32m----> 3\u001b[0;31m \u001b[0mtf\u001b[0m\u001b[0;34m.\u001b[0m\u001b[0mcontrib\u001b[0m \u001b[0;34m.\u001b[0m\u001b[0mintegrate\u001b[0m\u001b[0;34m.\u001b[0m\u001b[0modeint\u001b[0m\u001b[0;34m(\u001b[0m\u001b[0mfunc\u001b[0m\u001b[0;34m,\u001b[0m \u001b[0;36m1.\u001b[0m\u001b[0;34m,\u001b[0m \u001b[0;34m[\u001b[0m\u001b[0;36m0\u001b[0m\u001b[0;34m,\u001b[0m \u001b[0;36m1\u001b[0m\u001b[0;34m,\u001b[0m \u001b[0;36m2\u001b[0m\u001b[0;34m]\u001b[0m\u001b[0;34m,\u001b[0m\u001b[0mfull_output\u001b[0m\u001b[0;34m=\u001b[0m\u001b[0;32mTrue\u001b[0m\u001b[0;34m)\u001b[0m\u001b[0;34m\u001b[0m\u001b[0;34m\u001b[0m\u001b[0m\n\u001b[0m",
            "\u001b[0;31mAttributeError\u001b[0m: module 'tensorflow' has no attribute 'contrib'"
          ]
        }
      ]
    },
    {
      "cell_type": "code",
      "metadata": {
        "id": "0eDac0KrveBb",
        "colab_type": "code",
        "colab": {},
        "outputId": "eab771e1-912a-4579-f709-886808d03b29"
      },
      "source": [
        "# solve `dy/dt = -y`, this integrate to  y = e^-t  (exp(-t)) with the given boundary condition of y0 =1\n",
        "func = lambda y, _: -y #i.e. y = exp(-t)\n",
        "tf.contrib.integrate.odeint(func, 1., [0, 1, 2]) # i.e 1, e^-1, e^-2"
      ],
      "execution_count": 0,
      "outputs": [
        {
          "output_type": "error",
          "ename": "AttributeError",
          "evalue": "module 'tensorflow' has no attribute 'contrib'",
          "traceback": [
            "\u001b[0;31m---------------------------------------------------------------------------\u001b[0m",
            "\u001b[0;31mAttributeError\u001b[0m                            Traceback (most recent call last)",
            "\u001b[0;32m<ipython-input-57-0d4ead024c7b>\u001b[0m in \u001b[0;36m<module>\u001b[0;34m\u001b[0m\n\u001b[1;32m      1\u001b[0m \u001b[0;31m# solve `dy/dt = -y`, this integrate to  y = e^-t  (exp(-t)) with the given boundary condition of y0 =1\u001b[0m\u001b[0;34m\u001b[0m\u001b[0;34m\u001b[0m\u001b[0;34m\u001b[0m\u001b[0m\n\u001b[1;32m      2\u001b[0m \u001b[0mfunc\u001b[0m \u001b[0;34m=\u001b[0m \u001b[0;32mlambda\u001b[0m \u001b[0my\u001b[0m\u001b[0;34m,\u001b[0m \u001b[0m_\u001b[0m\u001b[0;34m:\u001b[0m \u001b[0;34m-\u001b[0m\u001b[0my\u001b[0m \u001b[0;31m#i.e. y = exp(-t)\u001b[0m\u001b[0;34m\u001b[0m\u001b[0;34m\u001b[0m\u001b[0m\n\u001b[0;32m----> 3\u001b[0;31m \u001b[0mtf\u001b[0m\u001b[0;34m.\u001b[0m\u001b[0mcontrib\u001b[0m\u001b[0;34m.\u001b[0m\u001b[0mintegrate\u001b[0m\u001b[0;34m.\u001b[0m\u001b[0modeint\u001b[0m\u001b[0;34m(\u001b[0m\u001b[0mfunc\u001b[0m\u001b[0;34m,\u001b[0m \u001b[0;36m1.\u001b[0m\u001b[0;34m,\u001b[0m \u001b[0;34m[\u001b[0m\u001b[0;36m0\u001b[0m\u001b[0;34m,\u001b[0m \u001b[0;36m1\u001b[0m\u001b[0;34m,\u001b[0m \u001b[0;36m2\u001b[0m\u001b[0;34m]\u001b[0m\u001b[0;34m)\u001b[0m \u001b[0;31m# i.e 1, e^-1, e^-2\u001b[0m\u001b[0;34m\u001b[0m\u001b[0;34m\u001b[0m\u001b[0m\n\u001b[0m",
            "\u001b[0;31mAttributeError\u001b[0m: module 'tensorflow' has no attribute 'contrib'"
          ]
        }
      ]
    },
    {
      "cell_type": "code",
      "metadata": {
        "id": "bvcV6BK9veBf",
        "colab_type": "code",
        "colab": {}
      },
      "source": [
        "#### longer example"
      ],
      "execution_count": 0,
      "outputs": []
    },
    {
      "cell_type": "markdown",
      "metadata": {
        "id": "oR60wxspveBj",
        "colab_type": "text"
      },
      "source": [
        "#### The Lorenz system is a system of ordinary differential equations.\n",
        "#### The Lorenz attractor is a set of chaotic solutions of the Lorenz system which, \n",
        "#### when plotted, resemble a butterfly or figure eight."
      ]
    },
    {
      "cell_type": "code",
      "metadata": {
        "id": "U-QoGZ7rveBk",
        "colab_type": "code",
        "colab": {},
        "outputId": "8786d52c-dd83-4f91-c641-149a384a1ee2"
      },
      "source": [
        "# eager version, adapted from https://www.tensorflow.org/versions/r1.4/api_guides/python/contrib.integrate\n",
        "# restart kernel before executing this cell\n",
        "import tensorflow as tf\n",
        "#import tensorflow.contrib.eager as tfe\n",
        "import numpy as np\n",
        "import matplotlib.pyplot as plt\n",
        "%matplotlib inline\n",
        "\n",
        "\n",
        "rho = 28.0\n",
        "sigma = 10.0\n",
        "beta = 8.0/3.0\n",
        "\n",
        "def lorenz_equation(state, t):\n",
        "  x, y, z = tf.unstack(state) # pop parameters off the  stack\n",
        "  dx = sigma * (y - x)\n",
        "  dy = x * (rho - z) - y\n",
        "  dz = x * y - beta * z\n",
        "  return tf.stack([dx, dy, dz]) # push parameters onto a stack\n",
        "\n",
        "init_state = tf.constant([0, 2, 20], dtype=tf.float64)\n",
        "time_intervals = np.linspace(0, 50, num=5000)\n",
        "tensor_state = tf.integrate.odeint(lorenz_equation, init_state, time_intervals, full_output=False)\n",
        "x, y, z = tf.transpose(a=tensor_state)\n",
        "\n",
        "plt.plot(x, z)"
      ],
      "execution_count": 0,
      "outputs": [
        {
          "output_type": "error",
          "ename": "AttributeError",
          "evalue": "module 'tensorflow' has no attribute 'integrate'",
          "traceback": [
            "\u001b[0;31m---------------------------------------------------------------------------\u001b[0m",
            "\u001b[0;31mAttributeError\u001b[0m                            Traceback (most recent call last)",
            "\u001b[0;32m<ipython-input-59-4943b900e708>\u001b[0m in \u001b[0;36m<module>\u001b[0;34m\u001b[0m\n\u001b[1;32m     21\u001b[0m \u001b[0minit_state\u001b[0m \u001b[0;34m=\u001b[0m \u001b[0mtf\u001b[0m\u001b[0;34m.\u001b[0m\u001b[0mconstant\u001b[0m\u001b[0;34m(\u001b[0m\u001b[0;34m[\u001b[0m\u001b[0;36m0\u001b[0m\u001b[0;34m,\u001b[0m \u001b[0;36m2\u001b[0m\u001b[0;34m,\u001b[0m \u001b[0;36m20\u001b[0m\u001b[0;34m]\u001b[0m\u001b[0;34m,\u001b[0m \u001b[0mdtype\u001b[0m\u001b[0;34m=\u001b[0m\u001b[0mtf\u001b[0m\u001b[0;34m.\u001b[0m\u001b[0mfloat64\u001b[0m\u001b[0;34m)\u001b[0m\u001b[0;34m\u001b[0m\u001b[0;34m\u001b[0m\u001b[0m\n\u001b[1;32m     22\u001b[0m \u001b[0mtime_intervals\u001b[0m \u001b[0;34m=\u001b[0m \u001b[0mnp\u001b[0m\u001b[0;34m.\u001b[0m\u001b[0mlinspace\u001b[0m\u001b[0;34m(\u001b[0m\u001b[0;36m0\u001b[0m\u001b[0;34m,\u001b[0m \u001b[0;36m50\u001b[0m\u001b[0;34m,\u001b[0m \u001b[0mnum\u001b[0m\u001b[0;34m=\u001b[0m\u001b[0;36m5000\u001b[0m\u001b[0;34m)\u001b[0m\u001b[0;34m\u001b[0m\u001b[0;34m\u001b[0m\u001b[0m\n\u001b[0;32m---> 23\u001b[0;31m \u001b[0mtensor_state\u001b[0m \u001b[0;34m=\u001b[0m \u001b[0mtf\u001b[0m\u001b[0;34m.\u001b[0m\u001b[0mintegrate\u001b[0m\u001b[0;34m.\u001b[0m\u001b[0modeint\u001b[0m\u001b[0;34m(\u001b[0m\u001b[0mlorenz_equation\u001b[0m\u001b[0;34m,\u001b[0m \u001b[0minit_state\u001b[0m\u001b[0;34m,\u001b[0m \u001b[0mtime_intervals\u001b[0m\u001b[0;34m,\u001b[0m \u001b[0mfull_output\u001b[0m\u001b[0;34m=\u001b[0m\u001b[0;32mFalse\u001b[0m\u001b[0;34m)\u001b[0m\u001b[0;34m\u001b[0m\u001b[0;34m\u001b[0m\u001b[0m\n\u001b[0m\u001b[1;32m     24\u001b[0m \u001b[0mx\u001b[0m\u001b[0;34m,\u001b[0m \u001b[0my\u001b[0m\u001b[0;34m,\u001b[0m \u001b[0mz\u001b[0m \u001b[0;34m=\u001b[0m \u001b[0mtf\u001b[0m\u001b[0;34m.\u001b[0m\u001b[0mtranspose\u001b[0m\u001b[0;34m(\u001b[0m\u001b[0ma\u001b[0m\u001b[0;34m=\u001b[0m\u001b[0mtensor_state\u001b[0m\u001b[0;34m)\u001b[0m\u001b[0;34m\u001b[0m\u001b[0;34m\u001b[0m\u001b[0m\n\u001b[1;32m     25\u001b[0m \u001b[0;34m\u001b[0m\u001b[0m\n",
            "\u001b[0;31mAttributeError\u001b[0m: module 'tensorflow' has no attribute 'integrate'"
          ]
        }
      ]
    },
    {
      "cell_type": "code",
      "metadata": {
        "id": "9kMVuCNdveBo",
        "colab_type": "code",
        "colab": {}
      },
      "source": [
        "#################### END OF INCOMPATIBLE CODE ######################"
      ],
      "execution_count": 0,
      "outputs": []
    },
    {
      "cell_type": "markdown",
      "metadata": {
        "id": "2SPv4jPYveBr",
        "colab_type": "text"
      },
      "source": [
        "#### Saving and restoring  variables\n"
      ]
    },
    {
      "cell_type": "code",
      "metadata": {
        "id": "Kf9nPZnUveBs",
        "colab_type": "code",
        "colab": {},
        "outputId": "d9471aec-8f0a-4691-8c6a-14e8997599d6"
      },
      "source": [
        "variable = tf.Variable([[1,3,5,7],[11,13,17,19]])\n",
        "checkpoint= tf.train.Checkpoint(var=variable)\n",
        "save_path = checkpoint.save('./vars')\n",
        "variable.assign([[0,0,0,0],[0,0,0,0]])\n",
        "variable"
      ],
      "execution_count": 0,
      "outputs": [
        {
          "output_type": "execute_result",
          "data": {
            "text/plain": [
              "<tf.Variable 'Variable:0' shape=(2, 4) dtype=int32, numpy=\n",
              "array([[0, 0, 0, 0],\n",
              "       [0, 0, 0, 0]], dtype=int32)>"
            ]
          },
          "metadata": {
            "tags": []
          },
          "execution_count": 61
        }
      ]
    },
    {
      "cell_type": "code",
      "metadata": {
        "id": "GGmuHVGTveBw",
        "colab_type": "code",
        "colab": {},
        "outputId": "f95c0399-78d6-4213-8fe8-84e588d6ff34"
      },
      "source": [
        "checkpoint.restore(save_path)\n",
        "var"
      ],
      "execution_count": 0,
      "outputs": [
        {
          "output_type": "execute_result",
          "data": {
            "text/plain": [
              "<tf.Variable 'Variable:0' shape=(2,) dtype=int32, numpy=array([3, 3], dtype=int32)>"
            ]
          },
          "metadata": {
            "tags": []
          },
          "execution_count": 62
        }
      ]
    },
    {
      "cell_type": "markdown",
      "metadata": {
        "id": "bHMUxBzdveB1",
        "colab_type": "text"
      },
      "source": [
        "#### Creating a callable TensorFlow graph from a Python function."
      ]
    },
    {
      "cell_type": "code",
      "metadata": {
        "id": "tujcLXi8veB2",
        "colab_type": "code",
        "colab": {}
      },
      "source": [
        "def f1(x, y):\n",
        "    return tf.reduce_mean(input_tensor=tf.multiply(x ** 2, 5) + y**2)\n",
        "\n",
        "f2 = tf.function(f1)\n",
        "\n",
        "x = tf.constant([4., -5.])\n",
        "y = tf.constant([2., 3.])\n",
        "\n",
        "# f1 and f2 return the same value, but f2 executes as a TensorFlow graph\n",
        "\n",
        "assert f1(x,y).numpy() == f2(x,y).numpy()"
      ],
      "execution_count": 0,
      "outputs": []
    },
    {
      "cell_type": "code",
      "metadata": {
        "id": "t4KrVsDpveB6",
        "colab_type": "code",
        "colab": {}
      },
      "source": [
        ""
      ],
      "execution_count": 0,
      "outputs": []
    },
    {
      "cell_type": "code",
      "metadata": {
        "id": "f717JnOEveCC",
        "colab_type": "code",
        "colab": {}
      },
      "source": [
        ""
      ],
      "execution_count": 0,
      "outputs": []
    },
    {
      "cell_type": "code",
      "metadata": {
        "id": "72lfjoAAveCH",
        "colab_type": "code",
        "colab": {}
      },
      "source": [
        ""
      ],
      "execution_count": 0,
      "outputs": []
    },
    {
      "cell_type": "code",
      "metadata": {
        "id": "9qsyIoIgveCL",
        "colab_type": "code",
        "colab": {}
      },
      "source": [
        "\n",
        "\n"
      ],
      "execution_count": 0,
      "outputs": []
    },
    {
      "cell_type": "code",
      "metadata": {
        "id": "YQ3Fa1QjveCR",
        "colab_type": "code",
        "colab": {}
      },
      "source": [
        ""
      ],
      "execution_count": 0,
      "outputs": []
    }
  ]
}